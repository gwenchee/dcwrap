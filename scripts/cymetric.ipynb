{
 "cells": [
  {
   "cell_type": "code",
   "execution_count": null,
   "metadata": {},
   "outputs": [],
   "source": [
    "import cymetric as cym\n",
    "import matplotlib as plt \n",
    "import pandas as pd\n",
    "import sys \n",
    "sys.path.insert(0, '../../transition-scenarios/scripts/')\n",
    "import transition_plots as tp"
   ]
  },
  {
   "cell_type": "code",
   "execution_count": null,
   "metadata": {},
   "outputs": [],
   "source": [
    "from cymetric import fco_metrics\n",
    "from cymetric import filters\n",
    "from cymetric import timeseries"
   ]
  },
  {
   "cell_type": "code",
   "execution_count": null,
   "metadata": {},
   "outputs": [],
   "source": [
    "output_file = '../cyclus-files/oat/cooling-time/ct2-exp.sqlite'\n",
    "db = cym.dbopen(output_file)\n",
    "ev = cym.Evaluator(db=db,write=True)"
   ]
  },
  {
   "cell_type": "markdown",
   "metadata": {},
   "source": [
    "Deployment"
   ]
  },
  {
   "cell_type": "code",
   "execution_count": null,
   "metadata": {},
   "outputs": [],
   "source": [
    "all_agents = tp.format_agent_dict(output_file,simple=False)\n",
    "tp.plot_agents(all_agents,name='ct0',simple=False)"
   ]
  },
  {
   "cell_type": "markdown",
   "metadata": {},
   "source": [
    "Electricity Production"
   ]
  },
  {
   "cell_type": "code",
   "execution_count": null,
   "metadata": {},
   "outputs": [],
   "source": [
    "ep = ev.eval('FcoMonthlyElectricityGenerated')"
   ]
  },
  {
   "cell_type": "code",
   "execution_count": null,
   "metadata": {},
   "outputs": [],
   "source": [
    "ep.plot(x='Month',y='Energy',grid='True')"
   ]
  },
  {
   "cell_type": "markdown",
   "metadata": {},
   "source": [
    "WM: Total HLW Inventory (Final) "
   ]
  },
  {
   "cell_type": "code",
   "execution_count": null,
   "metadata": {},
   "outputs": [],
   "source": [
    "hlw = cym.timeseries.transactions(ev,commodities=['lwrreprocessingwaste','moxreprocessingwaste','frreprocessingwaste'])\n",
    "hlw = hlw['Mass'].cumsum()"
   ]
  },
  {
   "cell_type": "code",
   "execution_count": null,
   "metadata": {},
   "outputs": [],
   "source": [
    "hlw.plot()"
   ]
  },
  {
   "cell_type": "code",
   "execution_count": null,
   "metadata": {},
   "outputs": [],
   "source": [
    "hlw.iloc[-1]"
   ]
  },
  {
   "cell_type": "markdown",
   "metadata": {},
   "source": [
    "WM: Depleted Uranium (Final)"
   ]
  },
  {
   "cell_type": "code",
   "execution_count": null,
   "metadata": {},
   "outputs": [],
   "source": [
    "du = cym.timeseries.transactions(ev,commodities=['enrichmentwaste'])\n",
    "du = du['Mass'].cumsum()"
   ]
  },
  {
   "cell_type": "code",
   "execution_count": null,
   "metadata": {},
   "outputs": [],
   "source": [
    "du.plot()"
   ]
  },
  {
   "cell_type": "code",
   "execution_count": null,
   "metadata": {},
   "outputs": [],
   "source": [
    "du.iloc[-1]"
   ]
  },
  {
   "cell_type": "markdown",
   "metadata": {},
   "source": [
    "Proliferation: Pu in LWR cooling pool"
   ]
  },
  {
   "cell_type": "code",
   "execution_count": null,
   "metadata": {},
   "outputs": [],
   "source": [
    "pu_cp_lwr_in = cym.timeseries.transactions(ev,commodities=['lwrout'],nucs=['pu-238','pu-239','pu-240','pu-241','pu-242','pu-244'])\n",
    "pu_cp_lwr_out = cym.timeseries.transactions(ev,commodities=['lwrstorageout'],nucs=['pu-238','pu-239','pu-240','pu-241','pu-242','pu-244'])\n",
    "diff = pu_cp_lwr_in-pu_cp_lwr_out\n",
    "pu_cp_lwr = diff['Mass'].cumsum()\n",
    "pu_cp_lwr.plot()"
   ]
  },
  {
   "cell_type": "markdown",
   "metadata": {},
   "source": [
    "Proliferation: Pu in MOX LWR cooling pool"
   ]
  },
  {
   "cell_type": "code",
   "execution_count": null,
   "metadata": {},
   "outputs": [],
   "source": [
    "pu_cp_mox_in = cym.timeseries.transactions(ev,commodities=['moxout'],nucs=['pu-238','pu-239','pu-240','pu-241','pu-242','pu-244'])\n",
    "pu_cp_mox_out = cym.timeseries.transactions(ev,commodities=['moxstorageout'],nucs=['pu-238','pu-239','pu-240','pu-241','pu-242','pu-244'])\n",
    "diff = pu_cp_mox_in-pu_cp_mox_out\n",
    "pu_cp_mox = diff['Mass'].cumsum()\n",
    "pu_cp_mox.plot()"
   ]
  },
  {
   "cell_type": "code",
   "execution_count": null,
   "metadata": {},
   "outputs": [],
   "source": [
    "pu_cp_mox = pu_cp_mox_in['Mass'].cumsum()\n",
    "pu_cp_mox.plot()"
   ]
  },
  {
   "cell_type": "code",
   "execution_count": null,
   "metadata": {},
   "outputs": [],
   "source": [
    "pu_cp_mox = pu_cp_mox_out['Mass'].cumsum()\n",
    "pu_cp_mox.plot()"
   ]
  },
  {
   "cell_type": "markdown",
   "metadata": {},
   "source": [
    "Proliferation: Pu in SFR cooling pool"
   ]
  },
  {
   "cell_type": "code",
   "execution_count": null,
   "metadata": {},
   "outputs": [],
   "source": [
    "pu_cp_fr_in = cym.timeseries.transactions(ev,senders=['moxlwr'],receivers=['moxstorage'],commodities=['frout'],nucs=['pu-238','pu-239','pu-240','pu-241','pu-242','pu-244'])\n",
    "pu_cp_fr_out = cym.timeseries.transactions(ev,senders=['moxstorage'],receivers=['moxreprocessing'],commodities=['frstorageout'],nucs=['pu-238','pu-239','pu-240','pu-241','pu-242','pu-244'])\n",
    "diff = pu_cp_fr_in-pu_cp_fr_out\n",
    "pu_cp_fr = diff['Mass'].cumsum()\n",
    "pu_cp_fr.plot()"
   ]
  },
  {
   "cell_type": "code",
   "execution_count": null,
   "metadata": {},
   "outputs": [],
   "source": [
    "pu_cp = cym.timeseries.inventories(ev,facilities=['fr'])"
   ]
  },
  {
   "cell_type": "code",
   "execution_count": null,
   "metadata": {},
   "outputs": [],
   "source": [
    "pu_cp.plot(x='Time',y='Quantity',grid='True')"
   ]
  },
  {
   "cell_type": "code",
   "execution_count": null,
   "metadata": {},
   "outputs": [],
   "source": [
    "pu_cp.max()[1]"
   ]
  },
  {
   "cell_type": "markdown",
   "metadata": {},
   "source": [
    "Proliferation: Pu in LWR cooling pool"
   ]
  },
  {
   "cell_type": "code",
   "execution_count": null,
   "metadata": {},
   "outputs": [],
   "source": [
    "pu_cp_lwr = cym.timeseries.inventories(ev,facilities=['lwrstorage'],nucs=['pu-238','pu-239','pu-240','pu-241','pu-242','pu-244'])"
   ]
  },
  {
   "cell_type": "code",
   "execution_count": null,
   "metadata": {},
   "outputs": [],
   "source": [
    "pu_cp_lwr = pu_cp_lwr['Mass'].cumsum()\n",
    "pu_cp_lwr.plot()"
   ]
  },
  {
   "cell_type": "code",
   "execution_count": null,
   "metadata": {},
   "outputs": [],
   "source": [
    "lwr.plot(x='Time',y='Quantity',grid='True')"
   ]
  },
  {
   "cell_type": "markdown",
   "metadata": {},
   "source": [
    "Resource Utilization: Uranium Ore consumed"
   ]
  },
  {
   "cell_type": "code",
   "execution_count": null,
   "metadata": {},
   "outputs": [],
   "source": [
    "nu = cym.timeseries.transactions(ev,commodities=['sourceout'])\n",
    "nu = nu['Mass'].cumsum()"
   ]
  },
  {
   "cell_type": "code",
   "execution_count": null,
   "metadata": {},
   "outputs": [],
   "source": [
    "nu.plot()"
   ]
  },
  {
   "cell_type": "code",
   "execution_count": null,
   "metadata": {},
   "outputs": [],
   "source": [
    "nu.iloc[-1]"
   ]
  },
  {
   "cell_type": "code",
   "execution_count": null,
   "metadata": {},
   "outputs": [],
   "source": []
  }
 ],
 "metadata": {
  "kernelspec": {
   "display_name": "Python 3",
   "language": "python",
   "name": "python3"
  },
  "language_info": {
   "codemirror_mode": {
    "name": "ipython",
    "version": 3
   },
   "file_extension": ".py",
   "mimetype": "text/x-python",
   "name": "python",
   "nbconvert_exporter": "python",
   "pygments_lexer": "ipython3",
   "version": "3.6.4"
  }
 },
 "nbformat": 4,
 "nbformat_minor": 4
}
