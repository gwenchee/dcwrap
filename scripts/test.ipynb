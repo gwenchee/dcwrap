{
 "cells": [
  {
   "cell_type": "code",
   "execution_count": 24,
   "metadata": {},
   "outputs": [],
   "source": [
    "import output as oup \n",
    "import numpy as np\n",
    "from matplotlib import pyplot as plt"
   ]
  },
  {
   "cell_type": "code",
   "execution_count": 25,
   "metadata": {},
   "outputs": [],
   "source": [
    "cur = oup.cursor('../cyclus-files/oat/cooling-time/ct1.sqlite')"
   ]
  },
  {
   "cell_type": "code",
   "execution_count": 26,
   "metadata": {},
   "outputs": [],
   "source": [
    "hlw_waste = cur.execute('SELECT sum(quantity) FROM transactions '\n",
    "                         'INNER JOIN `resources`'\n",
    "                         'ON transactions.resourceid = resources.resourceid '\n",
    "                         'WHERE Commodity = \"lwrreprocessingwaste\" '\n",
    "                         'OR Commodity=\"frreprocessingwaste\" OR Commodity=\"moxreprocessingwaste\" ').fetchall()"
   ]
  },
  {
   "cell_type": "code",
   "execution_count": 27,
   "metadata": {},
   "outputs": [
    {
     "data": {
      "text/plain": [
       "12535775.221830018"
      ]
     },
     "execution_count": 27,
     "metadata": {},
     "output_type": "execute_result"
    }
   ],
   "source": [
    "hlw_waste[0][0]"
   ]
  },
  {
   "cell_type": "code",
   "execution_count": 28,
   "metadata": {},
   "outputs": [],
   "source": [
    "depleted_u = cur.execute('SELECT sum(quantity) FROM transactions '\n",
    "                         'INNER JOIN `resources`'\n",
    "                         'ON transactions.resourceid = resources.resourceid '\n",
    "                         'WHERE Commodity = \"enrichmentwaste\" ').fetchall()"
   ]
  },
  {
   "cell_type": "code",
   "execution_count": 29,
   "metadata": {},
   "outputs": [
    {
     "data": {
      "text/plain": [
       "780762578.8995372"
      ]
     },
     "execution_count": 29,
     "metadata": {},
     "output_type": "execute_result"
    }
   ],
   "source": [
    "depleted_u[0][0]"
   ]
  },
  {
   "cell_type": "code",
   "execution_count": 30,
   "metadata": {},
   "outputs": [
    {
     "name": "stdout",
     "output_type": "stream",
     "text": [
      "SELECT timecreated, quantity, qualid FROM resources INNER JOIN agentstateinventories ON agentstateinventories.resourceid = resources.resourceid WHERE (agentid = \"131\")\n"
     ]
    },
    {
     "data": {
      "text/plain": [
       "89589.899999999994"
      ]
     },
     "execution_count": 30,
     "metadata": {},
     "output_type": "execute_result"
    }
   ],
   "source": [
    "inventory = oup.stockpiles(cur,'lwrstorage',False)\n",
    "max(inventory['lwrstorage'])"
   ]
  },
  {
   "cell_type": "code",
   "execution_count": 31,
   "metadata": {},
   "outputs": [],
   "source": [
    "lwrstorage_id = oup.agent_ids(cur,'lwrstorage')"
   ]
  },
  {
   "cell_type": "code",
   "execution_count": 32,
   "metadata": {},
   "outputs": [],
   "source": [
    "pu_lwrstorage = cur.execute('SELECT timecreated, sum(quantity*massfrac) '\n",
    "                            'FROM resources INNER JOIN `agentstateinventories` '\n",
    "                            'ON agentstateinventories.resourceid = resources.resourceid '\n",
    "                            'left join `compositions`'\n",
    "                            'on resources.QualId = Compositions.QualId WHERE '\n",
    "                            'agentid = \"131\" and nucid like \"94%\"'\n",
    "                            'group by timecreated').fetchall()"
   ]
  },
  {
   "cell_type": "code",
   "execution_count": 33,
   "metadata": {},
   "outputs": [],
   "source": [
    "init_year, init_month, duration, timestep = oup.simulation_timesteps(cur)"
   ]
  },
  {
   "cell_type": "code",
   "execution_count": 35,
   "metadata": {},
   "outputs": [],
   "source": [
    "b = oup.timeseries(pu_lwrstorage,duration,False)"
   ]
  },
  {
   "cell_type": "code",
   "execution_count": 39,
   "metadata": {},
   "outputs": [],
   "source": [
    "# The correct Pu in a facility \n",
    "stuffin = 'lwrout'\n",
    "stuffout = 'lwrstorageout'\n",
    "pu_in = cur.execute('SELECT time, sum(quantity*massfrac) ' \n",
    "'FROM transactions inner join resources '\n",
    "'on Transactions.resourceid = resources.resourceid '\n",
    "'left join compositions '\n",
    "'on resources.QualId = Compositions.QualId '\n",
    "'where commodity = \"lwrout\" and nucid like \"94%\" '\n",
    "'group by time' ).fetchall()\n",
    "pu_in_list = oup.timeseries(pu_in,duration,False)\n",
    "pu_out = cur.execute('SELECT time, sum(quantity*massfrac) ' \n",
    "'FROM transactions inner join resources '\n",
    "'on Transactions.resourceid = resources.resourceid '\n",
    "'left join compositions '\n",
    "'on resources.QualId = Compositions.QualId '\n",
    "'where commodity = \"lwrstorageout\" and nucid like \"94%\" '\n",
    "'group by time' ).fetchall()\n",
    "pu_out_list = oup.timeseries(pu_out,duration,False)"
   ]
  },
  {
   "cell_type": "code",
   "execution_count": 40,
   "metadata": {},
   "outputs": [],
   "source": [
    "N = len(pu_out_list)\n",
    "pu_inventory = np.zeros(N)\n",
    "pu_inventory[0] = pu_in_list[0]\n",
    "for x in range(N): \n",
    "    pu_inventory[x] = pu_inventory[x-1] + pu_in_list[x] - pu_out_list[x]"
   ]
  },
  {
   "cell_type": "code",
   "execution_count": 41,
   "metadata": {},
   "outputs": [
    {
     "data": {
      "text/plain": [
       "array([     0.        ,      0.        ,      0.        , ...,\n",
       "        12567.04295016,  12567.04295016,  12567.04295016])"
      ]
     },
     "execution_count": 41,
     "metadata": {},
     "output_type": "execute_result"
    }
   ],
   "source": [
    "pu_inventory"
   ]
  },
  {
   "cell_type": "code",
   "execution_count": 33,
   "metadata": {},
   "outputs": [],
   "source": [
    "spent_fuel = cur.execute('SELECT time, sum(quantity) FROM transactions '\n",
    "                         'INNER JOIN resources '\n",
    "                         'ON transactions.resourceid = resources.resourceid '\n",
    "                         'WHERE Commodity = \"lwrreprocessingwaste\" '\n",
    "                         'GROUP BY time ').fetchall()"
   ]
  },
  {
   "cell_type": "code",
   "execution_count": null,
   "metadata": {},
   "outputs": [],
   "source": []
  },
  {
   "cell_type": "code",
   "execution_count": null,
   "metadata": {},
   "outputs": [],
   "source": [
    "spent_fuel[1][0]"
   ]
  },
  {
   "cell_type": "code",
   "execution_count": null,
   "metadata": {},
   "outputs": [],
   "source": [
    "SELECT timecreated, quantity, qualid \n",
    "FROM resources INNER JOIN agentstateinventories \n",
    "ON agentstateinventories.resourceid = resources.resourceid \n",
    "WHERE (agentid = \"230\")"
   ]
  },
  {
   "cell_type": "code",
   "execution_count": 6,
   "metadata": {},
   "outputs": [],
   "source": [
    "ep = cur.execute('SELECT time, sum(value) '\n",
    "                 'from timeseriespower '\n",
    "                 'group by time').fetchall()"
   ]
  },
  {
   "cell_type": "code",
   "execution_count": 10,
   "metadata": {},
   "outputs": [],
   "source": [
    "ep_list = oup.timeseries(ep,duration,False)"
   ]
  },
  {
   "cell_type": "code",
   "execution_count": 22,
   "metadata": {},
   "outputs": [],
   "source": [
    "months = np.arange(0,duration) "
   ]
  },
  {
   "cell_type": "code",
   "execution_count": 23,
   "metadata": {},
   "outputs": [
    {
     "data": {
      "text/plain": [
       "[<matplotlib.lines.Line2D at 0x112da95f8>]"
      ]
     },
     "execution_count": 23,
     "metadata": {},
     "output_type": "execute_result"
    },
    {
     "data": {
      "image/png": "[encoded data removed]",
      "text/plain": [
       "<matplotlib.figure.Figure at 0x112b96400>"
      ]
     },
     "metadata": {},
     "output_type": "display_data"
    }
   ],
   "source": [
    "plt.plot(months,ep_list)"
   ]
  },
  {
   "cell_type": "code",
   "execution_count": 42,
   "metadata": {},
   "outputs": [
    {
     "data": {
      "text/plain": [
       "[<matplotlib.lines.Line2D at 0x1049146d8>]"
      ]
     },
     "execution_count": 42,
     "metadata": {},
     "output_type": "execute_result"
    },
    {
     "data": {
      "image/png": "[encoded data removed]",
      "text/plain": [
       "<matplotlib.figure.Figure at 0x112b968d0>"
      ]
     },
     "metadata": {},
     "output_type": "display_data"
    }
   ],
   "source": [
    "plt.plot(months,pu_inventory)"
   ]
  },
  {
   "cell_type": "code",
   "execution_count": null,
   "metadata": {},
   "outputs": [],
   "source": []
  }
 ],
 "metadata": {
  "kernelspec": {
   "display_name": "Python 3",
   "language": "python",
   "name": "python3"
  },
  "language_info": {
   "codemirror_mode": {
    "name": "ipython",
    "version": 3
   },
   "file_extension": ".py",
   "mimetype": "text/x-python",
   "name": "python",
   "nbconvert_exporter": "python",
   "pygments_lexer": "ipython3",
   "version": "3.6.4"
  }
 },
 "nbformat": 4,
 "nbformat_minor": 4
}
