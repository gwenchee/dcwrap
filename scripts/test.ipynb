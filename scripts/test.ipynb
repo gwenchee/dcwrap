{
 "cells": [
  {
   "cell_type": "code",
   "execution_count": 28,
   "metadata": {},
   "outputs": [],
   "source": [
    "import output as oup \n",
    "import numpy as np"
   ]
  },
  {
   "cell_type": "code",
   "execution_count": 42,
   "metadata": {},
   "outputs": [],
   "source": [
    "cur = oup.cursor('../cyclus-files/oat/cooling-time/ct1.sqlite')"
   ]
  },
  {
   "cell_type": "code",
   "execution_count": 5,
   "metadata": {},
   "outputs": [],
   "source": [
    "hlw_waste = cur.execute('SELECT sum(quantity) FROM transactions '\n",
    "                         'INNER JOIN `resources`'\n",
    "                         'ON transactions.resourceid = resources.resourceid '\n",
    "                         'WHERE Commodity = \"lwrreprocessingwaste\" '\n",
    "                         'OR Commodity=\"frreprocessingwaste\" OR Commodity=\"moxreprocessingwaste\" ').fetchall()"
   ]
  },
  {
   "cell_type": "code",
   "execution_count": 6,
   "metadata": {},
   "outputs": [
    {
     "data": {
      "text/plain": [
       "12596672.199454095"
      ]
     },
     "execution_count": 6,
     "metadata": {},
     "output_type": "execute_result"
    }
   ],
   "source": [
    "hlw_waste[0][0]"
   ]
  },
  {
   "cell_type": "code",
   "execution_count": 7,
   "metadata": {},
   "outputs": [],
   "source": [
    "depleted_u = cur.execute('SELECT sum(quantity) FROM transactions '\n",
    "                         'INNER JOIN `resources`'\n",
    "                         'ON transactions.resourceid = resources.resourceid '\n",
    "                         'WHERE Commodity = \"enrichmentwaste\" ').fetchall()"
   ]
  },
  {
   "cell_type": "code",
   "execution_count": 8,
   "metadata": {},
   "outputs": [
    {
     "data": {
      "text/plain": [
       "780762578.8995372"
      ]
     },
     "execution_count": 8,
     "metadata": {},
     "output_type": "execute_result"
    }
   ],
   "source": [
    "depleted_u[0][0]"
   ]
  },
  {
   "cell_type": "code",
   "execution_count": 9,
   "metadata": {},
   "outputs": [
    {
     "name": "stdout",
     "output_type": "stream",
     "text": [
      "SELECT timecreated, quantity, qualid FROM resources INNER JOIN agentstateinventories ON agentstateinventories.resourceid = resources.resourceid WHERE (agentid = \"131\")\n"
     ]
    },
    {
     "ename": "ValueError",
     "evalue": "max() arg is an empty sequence",
     "output_type": "error",
     "traceback": [
      "\u001b[0;31m---------------------------------------------------------------------------\u001b[0m",
      "\u001b[0;31mValueError\u001b[0m                                Traceback (most recent call last)",
      "\u001b[0;32m<ipython-input-9-89a4d0940bf2>\u001b[0m in \u001b[0;36m<module>\u001b[0;34m\u001b[0m\n\u001b[1;32m      1\u001b[0m \u001b[0minventory\u001b[0m \u001b[0;34m=\u001b[0m \u001b[0moup\u001b[0m\u001b[0;34m.\u001b[0m\u001b[0mstockpiles\u001b[0m\u001b[0;34m(\u001b[0m\u001b[0mcur\u001b[0m\u001b[0;34m,\u001b[0m\u001b[0;34m'lwrstorage'\u001b[0m\u001b[0;34m,\u001b[0m\u001b[0;32mFalse\u001b[0m\u001b[0;34m)\u001b[0m\u001b[0;34m\u001b[0m\u001b[0;34m\u001b[0m\u001b[0m\n\u001b[0;32m----> 2\u001b[0;31m \u001b[0mmax\u001b[0m\u001b[0;34m(\u001b[0m\u001b[0minventory\u001b[0m\u001b[0;34m[\u001b[0m\u001b[0;34m'lwrstorage'\u001b[0m\u001b[0;34m]\u001b[0m\u001b[0;34m)\u001b[0m\u001b[0;34m\u001b[0m\u001b[0;34m\u001b[0m\u001b[0m\n\u001b[0m",
      "\u001b[0;31mValueError\u001b[0m: max() arg is an empty sequence"
     ]
    }
   ],
   "source": [
    "inventory = oup.stockpiles(cur,'lwrstorage',False)\n",
    "max(inventory['lwrstorage'])"
   ]
  },
  {
   "cell_type": "code",
   "execution_count": 10,
   "metadata": {},
   "outputs": [],
   "source": [
    "lwrstorage_id = oup.agent_ids(cur,'lwrstorage')"
   ]
  },
  {
   "cell_type": "code",
   "execution_count": 11,
   "metadata": {},
   "outputs": [],
   "source": [
    "pu_lwrstorage = cur.execute('SELECT timecreated, sum(quantity*massfrac) '\n",
    "                            'FROM resources INNER JOIN `agentstateinventories` '\n",
    "                            'ON agentstateinventories.resourceid = resources.resourceid '\n",
    "                            'left join `compositions`'\n",
    "                            'on resources.QualId = Compositions.QualId WHERE '\n",
    "                            'agentid = \"131\" and nucid like \"94%\"'\n",
    "                            'group by timecreated').fetchall()"
   ]
  },
  {
   "cell_type": "code",
   "execution_count": 12,
   "metadata": {},
   "outputs": [],
   "source": [
    "init_year, init_month, duration, timestep = oup.simulation_timesteps(cur)"
   ]
  },
  {
   "cell_type": "code",
   "execution_count": 13,
   "metadata": {},
   "outputs": [
    {
     "data": {
      "text/plain": [
       "[]"
      ]
     },
     "execution_count": 13,
     "metadata": {},
     "output_type": "execute_result"
    }
   ],
   "source": [
    "oup.timeseries(pu_lwrstorage,duration,False)"
   ]
  },
  {
   "cell_type": "code",
   "execution_count": 44,
   "metadata": {},
   "outputs": [],
   "source": [
    "# The correct Pu in a facility \n",
    "stuffin = 'lwrout'\n",
    "stuffout = 'lwrstorageout'\n",
    "pu_in = cur.execute('SELECT time, sum(quantity*massfrac) ' \n",
    "'FROM transactions inner join resources '\n",
    "'on Transactions.resourceid = resources.resourceid '\n",
    "'left join compositions '\n",
    "'on resources.QualId = Compositions.QualId '\n",
    "'where commodity = \"lwrout\" and nucid like \"94%\" '\n",
    "'group by time' ).fetchall()\n",
    "pu_in_list = oup.timeseries(pu_in,duration,False)\n",
    "pu_out = cur.execute('SELECT time, sum(quantity*massfrac) ' \n",
    "'FROM transactions inner join resources '\n",
    "'on Transactions.resourceid = resources.resourceid '\n",
    "'left join compositions '\n",
    "'on resources.QualId = Compositions.QualId '\n",
    "'where commodity = \"lwrstorageout\" and nucid like \"94%\" '\n",
    "'group by time' ).fetchall()\n",
    "pu_out_list = oup.timeseries(pu_out,duration,False)"
   ]
  },
  {
   "cell_type": "code",
   "execution_count": 47,
   "metadata": {},
   "outputs": [],
   "source": [
    "N = len(pu_out_list)\n",
    "pu_inventory = np.zeros(N)\n",
    "pu_inventory[0] = pu_in_list[0]\n",
    "for x in range(N): \n",
    "    pu_inventory[x] = pu_inventory[x-1] + pu_in_list[x] - pu_out_list[x]"
   ]
  },
  {
   "cell_type": "code",
   "execution_count": 48,
   "metadata": {},
   "outputs": [
    {
     "data": {
      "text/plain": [
       "array([    0.        ,     0.        ,     0.        , ...,\n",
       "       12567.04295016, 12567.04295016, 12567.04295016])"
      ]
     },
     "execution_count": 48,
     "metadata": {},
     "output_type": "execute_result"
    }
   ],
   "source": [
    "pu_inventory"
   ]
  },
  {
   "cell_type": "code",
   "execution_count": 33,
   "metadata": {},
   "outputs": [],
   "source": [
    "spent_fuel = cur.execute('SELECT time, sum(quantity) FROM transactions '\n",
    "                         'INNER JOIN resources '\n",
    "                         'ON transactions.resourceid = resources.resourceid '\n",
    "                         'WHERE Commodity = \"lwrreprocessingwaste\" '\n",
    "                         'GROUP BY time ').fetchall()"
   ]
  },
  {
   "cell_type": "code",
   "execution_count": null,
   "metadata": {},
   "outputs": [],
   "source": []
  },
  {
   "cell_type": "code",
   "execution_count": null,
   "metadata": {},
   "outputs": [],
   "source": [
    "spent_fuel[1][0]"
   ]
  },
  {
   "cell_type": "code",
   "execution_count": null,
   "metadata": {},
   "outputs": [],
   "source": [
    "SELECT timecreated, quantity, qualid \n",
    "FROM resources INNER JOIN agentstateinventories \n",
    "ON agentstateinventories.resourceid = resources.resourceid \n",
    "WHERE (agentid = \"230\")"
   ]
  }
 ],
 "metadata": {
  "kernelspec": {
   "display_name": "Python 3",
   "language": "python",
   "name": "python3"
  },
  "language_info": {
   "codemirror_mode": {
    "name": "ipython",
    "version": 3
   },
   "file_extension": ".py",
   "mimetype": "text/x-python",
   "name": "python",
   "nbconvert_exporter": "python",
   "pygments_lexer": "ipython3",
   "version": "3.6.7"
  }
 },
 "nbformat": 4,
 "nbformat_minor": 4
}
