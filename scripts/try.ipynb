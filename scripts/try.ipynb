{
 "cells": [
  {
   "cell_type": "code",
   "execution_count": 1,
   "metadata": {},
   "outputs": [
    {
     "name": "stderr",
     "output_type": "stream",
     "text": [
      "/home/gwen/.local/lib/python3.6/site-packages/pyne/__init__.py:18: Warning: Error importing PyNE: you should not try to import PyNE from its source directory; please exit the PyNE source tree, and relaunch your python interpreter from there.\n",
      "  warn(msg, Warning)\n",
      "/home/gwen/.local/lib/python3.6/site-packages/pyne/__init__.py:18: Warning: Error importing PyNE: you should not try to import PyNE from its source directory; please exit the PyNE source tree, and relaunch your python interpreter from there.\n",
      "  warn(msg, Warning)\n",
      "/home/gwen/.local/lib/python3.6/site-packages/pyne/__init__.py:18: Warning: Error importing PyNE: you should not try to import PyNE from its source directory; please exit the PyNE source tree, and relaunch your python interpreter from there.\n",
      "  warn(msg, Warning)\n",
      "/home/gwen/.local/lib/python3.6/site-packages/pyne/__init__.py:18: Warning: Error importing PyNE: you should not try to import PyNE from its source directory; please exit the PyNE source tree, and relaunch your python interpreter from there.\n",
      "  warn(msg, Warning)\n"
     ]
    }
   ],
   "source": [
    "import cymetric as cym\n",
    "from cymetric import timeseries\n",
    "import matplotlib as plt \n",
    "import pandas as pd\n",
    "import sys \n",
    "import output as oup\n",
    "sys.path.insert(0, '../../transition-scenarios/scripts/')\n",
    "import transition_plots as tp\n",
    "import numpy as np"
   ]
  },
  {
   "cell_type": "code",
   "execution_count": 2,
   "metadata": {},
   "outputs": [
    {
     "name": "stderr",
     "output_type": "stream",
     "text": [
      "/home/gwen/.local/lib/python3.6/site-packages/pyne/__init__.py:18: Warning: Error importing PyNE: you should not try to import PyNE from its source directory; please exit the PyNE source tree, and relaunch your python interpreter from there.\n",
      "  warn(msg, Warning)\n"
     ]
    }
   ],
   "source": [
    "from cymetric import fco_metrics\n",
    "from cymetric import filters\n",
    "from cymetric import timeseries"
   ]
  },
  {
   "cell_type": "code",
   "execution_count": 3,
   "metadata": {},
   "outputs": [],
   "source": [
    "starter_string = 'CT'\n",
    "scenario_nums = ['0','1','2','3','4','5','6','7']"
   ]
  },
  {
   "cell_type": "code",
   "execution_count": 4,
   "metadata": {},
   "outputs": [],
   "source": [
    "df = oup.initialize_df(scenario_index=starter_string,\n",
    "                                 scenarios_nums=scenario_nums)"
   ]
  },
  {
   "cell_type": "code",
   "execution_count": 5,
   "metadata": {},
   "outputs": [],
   "source": [
    "df['Final HLW'] = 0\n",
    "df['Final Depleted U'] = 0 \n",
    "df['Total uranium ore'] = 0\n",
    "df['Total idle capacity'] = 0\n",
    "df['Last date idle capacity'] = 0\n",
    "df['Duration of transition'] = 0"
   ]
  },
  {
   "cell_type": "code",
   "execution_count": 6,
   "metadata": {},
   "outputs": [
    {
     "data": {
      "text/html": [
       "<div>\n",
       "<style scoped>\n",
       "    .dataframe tbody tr th:only-of-type {\n",
       "        vertical-align: middle;\n",
       "    }\n",
       "\n",
       "    .dataframe tbody tr th {\n",
       "        vertical-align: top;\n",
       "    }\n",
       "\n",
       "    .dataframe thead th {\n",
       "        text-align: right;\n",
       "    }\n",
       "</style>\n",
       "<table border=\"1\" class=\"dataframe\">\n",
       "  <thead>\n",
       "    <tr style=\"text-align: right;\">\n",
       "      <th></th>\n",
       "      <th>Final HLW</th>\n",
       "      <th>Final Depleted U</th>\n",
       "      <th>Total uranium ore</th>\n",
       "      <th>Total idle capacity</th>\n",
       "      <th>Last date idle capacity</th>\n",
       "      <th>Duration of transition</th>\n",
       "    </tr>\n",
       "    <tr>\n",
       "      <th>CT</th>\n",
       "      <th></th>\n",
       "      <th></th>\n",
       "      <th></th>\n",
       "      <th></th>\n",
       "      <th></th>\n",
       "      <th></th>\n",
       "    </tr>\n",
       "  </thead>\n",
       "  <tbody>\n",
       "    <tr>\n",
       "      <td>0</td>\n",
       "      <td>0</td>\n",
       "      <td>0</td>\n",
       "      <td>0</td>\n",
       "      <td>0</td>\n",
       "      <td>0</td>\n",
       "      <td>0</td>\n",
       "    </tr>\n",
       "    <tr>\n",
       "      <td>1</td>\n",
       "      <td>0</td>\n",
       "      <td>0</td>\n",
       "      <td>0</td>\n",
       "      <td>0</td>\n",
       "      <td>0</td>\n",
       "      <td>0</td>\n",
       "    </tr>\n",
       "    <tr>\n",
       "      <td>2</td>\n",
       "      <td>0</td>\n",
       "      <td>0</td>\n",
       "      <td>0</td>\n",
       "      <td>0</td>\n",
       "      <td>0</td>\n",
       "      <td>0</td>\n",
       "    </tr>\n",
       "    <tr>\n",
       "      <td>3</td>\n",
       "      <td>0</td>\n",
       "      <td>0</td>\n",
       "      <td>0</td>\n",
       "      <td>0</td>\n",
       "      <td>0</td>\n",
       "      <td>0</td>\n",
       "    </tr>\n",
       "    <tr>\n",
       "      <td>4</td>\n",
       "      <td>0</td>\n",
       "      <td>0</td>\n",
       "      <td>0</td>\n",
       "      <td>0</td>\n",
       "      <td>0</td>\n",
       "      <td>0</td>\n",
       "    </tr>\n",
       "    <tr>\n",
       "      <td>5</td>\n",
       "      <td>0</td>\n",
       "      <td>0</td>\n",
       "      <td>0</td>\n",
       "      <td>0</td>\n",
       "      <td>0</td>\n",
       "      <td>0</td>\n",
       "    </tr>\n",
       "    <tr>\n",
       "      <td>6</td>\n",
       "      <td>0</td>\n",
       "      <td>0</td>\n",
       "      <td>0</td>\n",
       "      <td>0</td>\n",
       "      <td>0</td>\n",
       "      <td>0</td>\n",
       "    </tr>\n",
       "    <tr>\n",
       "      <td>7</td>\n",
       "      <td>0</td>\n",
       "      <td>0</td>\n",
       "      <td>0</td>\n",
       "      <td>0</td>\n",
       "      <td>0</td>\n",
       "      <td>0</td>\n",
       "    </tr>\n",
       "  </tbody>\n",
       "</table>\n",
       "</div>"
      ],
      "text/plain": [
       "    Final HLW  Final Depleted U  Total uranium ore  Total idle capacity  \\\n",
       "CT                                                                        \n",
       "0           0                 0                  0                    0   \n",
       "1           0                 0                  0                    0   \n",
       "2           0                 0                  0                    0   \n",
       "3           0                 0                  0                    0   \n",
       "4           0                 0                  0                    0   \n",
       "5           0                 0                  0                    0   \n",
       "6           0                 0                  0                    0   \n",
       "7           0                 0                  0                    0   \n",
       "\n",
       "    Last date idle capacity  Duration of transition  \n",
       "CT                                                   \n",
       "0                         0                       0  \n",
       "1                         0                       0  \n",
       "2                         0                       0  \n",
       "3                         0                       0  \n",
       "4                         0                       0  \n",
       "5                         0                       0  \n",
       "6                         0                       0  \n",
       "7                         0                       0  "
      ]
     },
     "execution_count": 6,
     "metadata": {},
     "output_type": "execute_result"
    }
   ],
   "source": [
    "df"
   ]
  },
  {
   "cell_type": "code",
   "execution_count": 7,
   "metadata": {},
   "outputs": [],
   "source": [
    "output_start = '../cyclus-files/oat/cooling-time/ct'\n",
    "ev_dict = {}\n",
    "for x in range(len(scenario_nums)): \n",
    "    output_file = output_start + scenario_nums[x]+'.sqlite'\n",
    "    ev_dict[scenario_nums[x]] = cym.Evaluator(db=cym.dbopen(output_file),write=True)"
   ]
  },
  {
   "cell_type": "code",
   "execution_count": null,
   "metadata": {},
   "outputs": [],
   "source": [
    "for x in range(len(scenario_nums)): \n",
    "    df.loc[scenario_nums[x],'Final HLW'] = cym.timeseries.transactions(ev_dict[scenario_nums[x]],commodities=['lwrreprocessingwaste','moxreprocessingwaste','frreprocessingwaste'])['Mass'].cumsum().iloc[-1]\n",
    "    df.loc[scenario_nums[x],'Final Depleted U'] = cym.timeseries.transactions(ev_dict[scenario_nums[x]],commodities=['enrichmentwaste'])['Mass'].cumsum().max()\n",
    "    df.loc[scenario_nums[x],'Total uranium ore'] = cym.timeseries.transactions(ev_dict[scenario_nums[x]],commodities=['sourceout'])['Mass'].cumsum().max()\n",
    "    df.loc[scenario_nums[x],'Total idle capacity'], df.loc[scenario_nums[x],'Last date idle capacity'], udict = idlecap(ev_dict[scenario_nums[x]],'(60000+250*t/12)/1000')\n",
    "    df.loc[scenario_nums[x],'Duration of transition'] = df.loc[scenario_nums[x],'Last date idle capacity'] - 960\n",
    "    "
   ]
  },
  {
   "cell_type": "code",
   "execution_count": null,
   "metadata": {},
   "outputs": [],
   "source": [
    "df"
   ]
  },
  {
   "cell_type": "code",
   "execution_count": 8,
   "metadata": {},
   "outputs": [],
   "source": [
    "def idlecap(evaluator,demand_eq): \n",
    "    ep = evaluator.eval('FcoMonthlyElectricityGenerated')\n",
    "    t = np.arange(0,1440)\n",
    "    power = eval(demand_eq)\n",
    "    diff = list(ep['Energy'])-power\n",
    "    total = 0\n",
    "    undersupply_times = {}\n",
    "    for x in range(len(diff)):\n",
    "        if diff[x] < 0: \n",
    "            total -= diff[x]\n",
    "            undersupply_times[x] = -diff[x]\n",
    "    last_undersupply = max(k for k, v in undersupply_times.items())\n",
    "    return total, last_undersupply, undersupply_times"
   ]
  },
  {
   "cell_type": "code",
   "execution_count": null,
   "metadata": {},
   "outputs": [],
   "source": [
    "def sensitivity(base_case,init_df):\n",
    "    \"\"\" This function takes a dataframe \n",
    "    \"\"\"\n",
    "    SA_df = init_df.copy()\n",
    "    M = init_df.index.size\n",
    "    categories=list(init_df)\n",
    "    N = len(categories)\n",
    "    row = 0\n",
    "    for x in range(M): \n",
    "        if init_df.index[x] == base_case: \n",
    "            basecase_index = row\n",
    "        row += 1\n",
    "    for x in range(M): \n",
    "        if init_df.index[x] == base_case: \n",
    "            for y in range(N): \n",
    "                SA_df.iloc[x,y] = 0\n",
    "        else: \n",
    "            for y in range(N): \n",
    "                if float(init_df.iloc[basecase_index,y]) == 0: \n",
    "                    SA_df.iloc[x,y] = np.nan\n",
    "                else:\n",
    "                    SA_df.iloc[x,y] = (init_df.iloc[x,y]-init_df.iloc[basecase_index,y])/init_df.iloc[basecase_index,y]*100  \n",
    "    return SA_df"
   ]
  },
  {
   "cell_type": "code",
   "execution_count": null,
   "metadata": {},
   "outputs": [],
   "source": [
    "sensitivity(base_case='1',init_df=df)"
   ]
  },
  {
   "cell_type": "code",
   "execution_count": null,
   "metadata": {},
   "outputs": [],
   "source": []
  },
  {
   "cell_type": "code",
   "execution_count": null,
   "metadata": {},
   "outputs": [],
   "source": [
    "starter_string = 'CT'\n",
    "scenario_nums = ['0','1','2','3','4','5','6','7']"
   ]
  },
  {
   "cell_type": "code",
   "execution_count": null,
   "metadata": {},
   "outputs": [],
   "source": [
    "df_p = oup.initialize_df(scenario_index=starter_string,\n",
    "                                 scenarios_nums=scenario_nums)"
   ]
  },
  {
   "cell_type": "code",
   "execution_count": null,
   "metadata": {},
   "outputs": [],
   "source": [
    "df_p['Max Pu in LWR CP'] = 0\n",
    "df_p['Max Pu in MOX CP'] = 0 \n",
    "df_p['Max Pu in SFR CP'] = 0\n",
    "df_p['Max Pu in all CP'] = 0\n",
    "df_p['Max Pu in HLW'] = 0\n",
    "df_p['Max Pu in all RPR'] = 0"
   ]
  },
  {
   "cell_type": "code",
   "execution_count": null,
   "metadata": {},
   "outputs": [],
   "source": [
    "df_p"
   ]
  },
  {
   "cell_type": "code",
   "execution_count": null,
   "metadata": {},
   "outputs": [],
   "source": [
    "output_start = '../cyclus-files/oat/cooling-time/ct'\n",
    "ev_dict = {}\n",
    "for x in range(len(scenario_nums)): \n",
    "    output_file = output_start + scenario_nums[x]+'-exp.sqlite'\n",
    "    ev_dict[scenario_nums[x]] = cym.Evaluator(db=cym.dbopen(output_file),write=True)"
   ]
  },
  {
   "cell_type": "code",
   "execution_count": null,
   "metadata": {},
   "outputs": [],
   "source": [
    "for x in range(len(scenario_nums)): \n",
    "    df_p.loc[scenario_nums[x],'Max Pu in LWR CP'] = cym.timeseries.inventories(ev_dict[scenario_nums[x]],facilities=['lwrstorage'],nucs=['pu-238','pu-239','pu-240','pu-241','pu-242','pu-244'])['Quantity'].max()\n",
    "    df_p.loc[scenario_nums[x],'Max Pu in MOX CP'] = cym.timeseries.inventories(ev_dict[scenario_nums[x]],facilities=['moxstorage'],nucs=['pu-238','pu-239','pu-240','pu-241','pu-242','pu-244'])['Quantity'].max()\n",
    "    df_p.loc[scenario_nums[x],'Max Pu in SFR CP'] = cym.timeseries.inventories(ev_dict[scenario_nums[x]],facilities=['frstorage'],nucs=['pu-238','pu-239','pu-240','pu-241','pu-242','pu-244'])['Quantity'].max()\n",
    "    df_p.loc[scenario_nums[x],'Max Pu in all CP'] = cym.timeseries.inventories(ev_dict[scenario_nums[x]],facilities=['lwrstorage','moxstorage','frstorage'],nucs=['pu-238','pu-239','pu-240','pu-241','pu-242','pu-244'])['Quantity'].max()\n",
    "    df_p.loc[scenario_nums[x],'Max Pu in HLW'] = cym.timeseries.inventories(ev_dict[scenario_nums[x]],facilities=['enrichmentsink','lwrsink','moxsink','frsink'],nucs=['pu-238','pu-239','pu-240','pu-241','pu-242','pu-244'])['Quantity'].max()\n",
    "    df_p.loc[scenario_nums[x],'Max Pu in all RPR'] = cym.timeseries.inventories(ev_dict[scenario_nums[x]],facilities=['lwrreprocessing','moxreprocessing','frreprocessing'],nucs=['pu-238','pu-239','pu-240','pu-241','pu-242','pu-244'])['Quantity'].max()  "
   ]
  },
  {
   "cell_type": "code",
   "execution_count": null,
   "metadata": {},
   "outputs": [],
   "source": [
    "df_p"
   ]
  },
  {
   "cell_type": "code",
   "execution_count": null,
   "metadata": {},
   "outputs": [],
   "source": [
    "sensitivity(base_case='1',init_df=df_p)"
   ]
  },
  {
   "cell_type": "code",
   "execution_count": null,
   "metadata": {},
   "outputs": [],
   "source": []
  }
 ],
 "metadata": {
  "kernelspec": {
   "display_name": "Python 3",
   "language": "python",
   "name": "python3"
  },
  "language_info": {
   "codemirror_mode": {
    "name": "ipython",
    "version": 3
   },
   "file_extension": ".py",
   "mimetype": "text/x-python",
   "name": "python",
   "nbconvert_exporter": "python",
   "pygments_lexer": "ipython3",
   "version": "3.6.7"
  }
 },
 "nbformat": 4,
 "nbformat_minor": 4
}
